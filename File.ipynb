{
 "cells": [
  {
   "cell_type": "code",
   "execution_count": 1,
   "metadata": {},
   "outputs": [],
   "source": [
    "\n",
    "import numpy as np\n",
    "import pandas as pd\n",
    "#import matplotlib.pyplot as plt\n",
    "from keras.models import Sequential\n",
    "from keras.layers import Dense,LSTM,Activation\n",
    "import sqlite3\n",
    "from sklearn.model_selection import train_test_split\n",
    "#plt.style.use('fivethirtyeight')\n",
    "from sklearn.preprocessing import LabelEncoder"
   ]
  },
  {
   "cell_type": "code",
   "execution_count": 2,
   "metadata": {},
   "outputs": [],
   "source": [
    "cnx = sqlite3.connect('db.sqlite3')\n",
    "df = pd.read_sql_query(\"SELECT * FROM application_all_data\",cnx)"
   ]
  },
  {
   "cell_type": "code",
   "execution_count": 3,
   "metadata": {},
   "outputs": [],
   "source": [
    "from sklearn.preprocessing import LabelBinarizer\n",
    "encoder = LabelBinarizer()\n",
    "Color = df['color']\n",
    "dataset = encoder.fit_transform(Color)\n",
    "dataset = list(dataset)"
   ]
  },
  {
   "cell_type": "code",
   "execution_count": 4,
   "metadata": {},
   "outputs": [],
   "source": [
    "#Color = df['color']\n",
    "data = [[dataset[i+j] for i in range(5)] for j in range(100000)]\n",
    "target = [dataset[i+5] for i in range(100000)]\n",
    "Data = np.array(data,dtype=int)\n",
    "Target = np.array(target,dtype=int)\n",
    "\n",
    "x_train,x_test,y_train,y_test = train_test_split(Data,Target,test_size=0.9,random_state = 4)"
   ]
  },
  {
   "cell_type": "code",
   "execution_count": 9,
   "metadata": {},
   "outputs": [],
   "source": [
    "model =  Sequential()\n",
    "model.add(LSTM((3),batch_input_shape = (None,5,3),return_sequences = False))\n",
    "\n",
    "#model.add(Activation('softmax'))"
   ]
  },
  {
   "cell_type": "code",
   "execution_count": 10,
   "metadata": {},
   "outputs": [],
   "source": [
    "model.compile(optimizer='adam',loss = 'mean_absolute_error',metrics=[\"accuracy\"])"
   ]
  },
  {
   "cell_type": "code",
   "execution_count": 7,
   "metadata": {},
   "outputs": [
    {
     "name": "stdout",
     "output_type": "stream",
     "text": [
      "Model: \"sequential\"\n",
      "_________________________________________________________________\n",
      "Layer (type)                 Output Shape              Param #   \n",
      "=================================================================\n",
      "lstm (LSTM)                  (None, 3)                 84        \n",
      "=================================================================\n",
      "Total params: 84\n",
      "Trainable params: 84\n",
      "Non-trainable params: 0\n",
      "_________________________________________________________________\n"
     ]
    }
   ],
   "source": [
    "model.summary()"
   ]
  },
  {
   "cell_type": "code",
   "execution_count": 11,
   "metadata": {
    "scrolled": false
   },
   "outputs": [
    {
     "name": "stdout",
     "output_type": "stream",
     "text": [
      "Epoch 1/20\n",
      "313/313 [==============================] - 1s 4ms/step - loss: 0.3696 - accuracy: 0.4077\n",
      "Epoch 2/20\n",
      "313/313 [==============================] - 1s 3ms/step - loss: 0.3375 - accuracy: 0.4906\n",
      "Epoch 3/20\n",
      "313/313 [==============================] - 1s 3ms/step - loss: 0.3346 - accuracy: 0.4879\n",
      "Epoch 4/20\n",
      "313/313 [==============================] - 1s 3ms/step - loss: 0.3340 - accuracy: 0.4881\n",
      "Epoch 5/20\n",
      "313/313 [==============================] - 1s 4ms/step - loss: 0.3338 - accuracy: 0.4909\n",
      "Epoch 6/20\n",
      "313/313 [==============================] - 1s 3ms/step - loss: 0.3337 - accuracy: 0.4931\n",
      "Epoch 7/20\n",
      "313/313 [==============================] - 1s 4ms/step - loss: 0.3336 - accuracy: 0.4926\n",
      "Epoch 8/20\n",
      "313/313 [==============================] - 1s 3ms/step - loss: 0.3335 - accuracy: 0.4964\n",
      "Epoch 9/20\n",
      "313/313 [==============================] - 1s 3ms/step - loss: 0.3335 - accuracy: 0.4957\n",
      "Epoch 10/20\n",
      "313/313 [==============================] - 1s 4ms/step - loss: 0.3335 - accuracy: 0.4977\n",
      "Epoch 11/20\n",
      "313/313 [==============================] - 1s 3ms/step - loss: 0.3334 - accuracy: 0.4970\n",
      "Epoch 12/20\n",
      "313/313 [==============================] - 1s 4ms/step - loss: 0.3334 - accuracy: 0.4932\n",
      "Epoch 13/20\n",
      "313/313 [==============================] - 1s 4ms/step - loss: 0.3334 - accuracy: 0.4908\n",
      "Epoch 14/20\n",
      "313/313 [==============================] - 1s 4ms/step - loss: 0.3334 - accuracy: 0.4947\n",
      "Epoch 15/20\n",
      "313/313 [==============================] - 1s 4ms/step - loss: 0.3334 - accuracy: 0.4906\n",
      "Epoch 16/20\n",
      "313/313 [==============================] - 1s 3ms/step - loss: 0.3334 - accuracy: 0.4872\n",
      "Epoch 17/20\n",
      "313/313 [==============================] - 1s 4ms/step - loss: 0.3334 - accuracy: 0.4875\n",
      "Epoch 18/20\n",
      "313/313 [==============================] - 1s 5ms/step - loss: 0.3334 - accuracy: 0.4958\n",
      "Epoch 19/20\n",
      "313/313 [==============================] - 1s 3ms/step - loss: 0.3334 - accuracy: 0.4938\n",
      "Epoch 20/20\n",
      "313/313 [==============================] - 1s 4ms/step - loss: 0.3334 - accuracy: 0.4913\n"
     ]
    },
    {
     "data": {
      "text/plain": [
       "<tensorflow.python.keras.callbacks.History at 0x7f2e1c20a070>"
      ]
     },
     "execution_count": 11,
     "metadata": {},
     "output_type": "execute_result"
    }
   ],
   "source": [
    "model.fit(x_train,y_train,epochs=20)"
   ]
  },
  {
   "cell_type": "code",
   "execution_count": 30,
   "metadata": {},
   "outputs": [
    {
     "ename": "AttributeError",
     "evalue": "'list' object has no attribute 'tolist'",
     "output_type": "error",
     "traceback": [
      "\u001b[0;31m---------------------------------------------------------------------------\u001b[0m",
      "\u001b[0;31mAttributeError\u001b[0m                            Traceback (most recent call last)",
      "\u001b[0;32m<ipython-input-30-4503e0468a53>\u001b[0m in \u001b[0;36m<module>\u001b[0;34m\u001b[0m\n\u001b[1;32m      4\u001b[0m \u001b[0mtrue\u001b[0m \u001b[0;34m=\u001b[0m \u001b[0;36m0\u001b[0m\u001b[0;34m\u001b[0m\u001b[0;34m\u001b[0m\u001b[0m\n\u001b[1;32m      5\u001b[0m \u001b[0mfalse\u001b[0m \u001b[0;34m=\u001b[0m \u001b[0;36m0\u001b[0m\u001b[0;34m\u001b[0m\u001b[0;34m\u001b[0m\u001b[0m\n\u001b[0;32m----> 6\u001b[0;31m \u001b[0my_test\u001b[0m \u001b[0;34m=\u001b[0m \u001b[0my_test\u001b[0m\u001b[0;34m.\u001b[0m\u001b[0mtolist\u001b[0m\u001b[0;34m(\u001b[0m\u001b[0;34m)\u001b[0m\u001b[0;34m\u001b[0m\u001b[0;34m\u001b[0m\u001b[0m\n\u001b[0m\u001b[1;32m      7\u001b[0m \u001b[0;34m\u001b[0m\u001b[0m\n\u001b[1;32m      8\u001b[0m \u001b[0;34m\u001b[0m\u001b[0m\n",
      "\u001b[0;31mAttributeError\u001b[0m: 'list' object has no attribute 'tolist'"
     ]
    }
   ],
   "source": [
    "results = model.predict(x_test)\n",
    "\n",
    "results = results.tolist()\n",
    "true = 0\n",
    "false = 0\n",
    "y_test = y_test.tolist()\n",
    "\n",
    "\n",
    "\n",
    "for i in range(len(results)):\n",
    "    \n",
    "    ind = results[i].index(max(results[i]))\n",
    "   \n",
    "          \n",
    "        \n",
    "    for j in range(3):\n",
    "        results[i][j] = 0\n",
    "    results[i][ind] = 1\n",
    "        \n",
    "\n",
    "for i in range(len(results)):\n",
    "    if results[i] == y_test[i]:\n",
    "        true+=1\n",
    "    elif results[i] != y_test[i]:\n",
    "        false+=1\n",
    "        \n",
    "        \n",
    "accuracy = true/(true +false)\n",
    "accuracy"
   ]
  }
 ],
 "metadata": {
  "kernelspec": {
   "display_name": "Python 3",
   "language": "python",
   "name": "python3"
  },
  "language_info": {
   "codemirror_mode": {
    "name": "ipython",
    "version": 3
   },
   "file_extension": ".py",
   "mimetype": "text/x-python",
   "name": "python",
   "nbconvert_exporter": "python",
   "pygments_lexer": "ipython3",
   "version": "3.8.2"
  }
 },
 "nbformat": 4,
 "nbformat_minor": 4
}
