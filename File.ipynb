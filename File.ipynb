{
 "cells": [
  {
   "cell_type": "code",
   "execution_count": 1,
   "metadata": {},
   "outputs": [],
   "source": [
    "\n",
    "import numpy as np\n",
    "import pandas as pd\n",
    "import matplotlib.pyplot as plt\n",
    "from keras.models import Sequential\n",
    "from keras.layers import Dense,LSTM\n",
    "import sqlite3\n",
    "from sklearn.model_selection import train_test_split\n",
    "plt.style.use('fivethirtyeight')"
   ]
  },
  {
   "cell_type": "code",
   "execution_count": 2,
   "metadata": {},
   "outputs": [],
   "source": [
    "cnx = sqlite3.connect('db.sqlite3')\n",
    "df = pd.read_sql_query(\"SELECT * FROM application_all_data\",cnx)"
   ]
  },
  {
   "cell_type": "code",
   "execution_count": 3,
   "metadata": {},
   "outputs": [],
   "source": [
    "number = []\n",
    "color = []\n",
    "id=[]\n",
    "for i in range(500000):\n",
    "    a = df.loc[i,'number']\n",
    "    x = df.loc[i,'color']\n",
    "    if x == 'Green':\n",
    "        y = 1\n",
    "    elif x == 'Black':\n",
    "        y = 2\n",
    "    elif x == 'Red':\n",
    "        y = 3\n",
    "    number.append(a)\n",
    "    color.append(y)\n",
    "    \n",
    "    \n",
    "new = {'number':number,'color':color}\n",
    "df = pd.DataFrame(new)\n",
    "\n"
   ]
  },
  {
   "cell_type": "code",
   "execution_count": 18,
   "metadata": {},
   "outputs": [],
   "source": [
    "Color = df['color']\n",
    "data = [[[Color[i+j]] for i in range(10)] for j in range(50000)]\n",
    "target = [Color[i+10] for i in range(50000)]\n",
    "Data = np.array(data,dtype=float)\n",
    "Target = np.array(target,dtype=float)\n",
    "x_train,x_test,y_train,y_test = train_test_split(Data,Target,test_size=0.8,random_state = 4)"
   ]
  },
  {
   "cell_type": "code",
   "execution_count": 19,
   "metadata": {},
   "outputs": [],
   "source": [
    "model =  Sequential()\n",
    "model.add(LSTM((1),batch_input_shape = (None,10,1),return_sequences = False))"
   ]
  },
  {
   "cell_type": "code",
   "execution_count": 20,
   "metadata": {},
   "outputs": [],
   "source": [
    "model.compile(optimizer='adam',loss = 'mean_absolute_error',metrics=[\"accuracy\"])"
   ]
  },
  {
   "cell_type": "code",
   "execution_count": 21,
   "metadata": {},
   "outputs": [
    {
     "name": "stdout",
     "output_type": "stream",
     "text": [
      "Model: \"sequential_3\"\n",
      "_________________________________________________________________\n",
      "Layer (type)                 Output Shape              Param #   \n",
      "=================================================================\n",
      "lstm_2 (LSTM)                (None, 1)                 12        \n",
      "=================================================================\n",
      "Total params: 12\n",
      "Trainable params: 12\n",
      "Non-trainable params: 0\n",
      "_________________________________________________________________\n"
     ]
    }
   ],
   "source": [
    "model.summary()"
   ]
  },
  {
   "cell_type": "code",
   "execution_count": null,
   "metadata": {},
   "outputs": [
    {
     "name": "stdout",
     "output_type": "stream",
     "text": [
      "Epoch 1/500\n",
      "313/313 [==============================] - 3s 9ms/step - loss: 1.4763 - accuracy: 0.0252 - val_loss: 1.4724 - val_accuracy: 0.0265\n",
      "Epoch 2/500\n",
      "313/313 [==============================] - 3s 9ms/step - loss: 1.4763 - accuracy: 0.0252 - val_loss: 1.4724 - val_accuracy: 0.0265\n",
      "Epoch 3/500\n",
      "313/313 [==============================] - 3s 9ms/step - loss: 1.4763 - accuracy: 0.0252 - val_loss: 1.4724 - val_accuracy: 0.0265\n",
      "Epoch 4/500\n",
      "313/313 [==============================] - 3s 10ms/step - loss: 1.4763 - accuracy: 0.0252 - val_loss: 1.4724 - val_accuracy: 0.0265\n",
      "Epoch 5/500\n",
      "313/313 [==============================] - 3s 10ms/step - loss: 1.4763 - accuracy: 0.0252 - val_loss: 1.4724 - val_accuracy: 0.0265\n",
      "Epoch 6/500\n",
      "313/313 [==============================] - 3s 10ms/step - loss: 1.4763 - accuracy: 0.0252 - val_loss: 1.4724 - val_accuracy: 0.0265\n",
      "Epoch 7/500\n",
      "313/313 [==============================] - 3s 10ms/step - loss: 1.4763 - accuracy: 0.0252 - val_loss: 1.4724 - val_accuracy: 0.0265\n",
      "Epoch 8/500\n",
      "313/313 [==============================] - 3s 10ms/step - loss: 1.4763 - accuracy: 0.0252 - val_loss: 1.4724 - val_accuracy: 0.0265\n",
      "Epoch 9/500\n",
      "313/313 [==============================] - 3s 10ms/step - loss: 1.4763 - accuracy: 0.0252 - val_loss: 1.4724 - val_accuracy: 0.0265\n",
      "Epoch 10/500\n",
      "313/313 [==============================] - 3s 10ms/step - loss: 1.4763 - accuracy: 0.0252 - val_loss: 1.4724 - val_accuracy: 0.0265\n",
      "Epoch 11/500\n",
      "313/313 [==============================] - 3s 10ms/step - loss: 1.4763 - accuracy: 0.0252 - val_loss: 1.4724 - val_accuracy: 0.0265\n",
      "Epoch 12/500\n",
      "313/313 [==============================] - 3s 11ms/step - loss: 1.4763 - accuracy: 0.0252 - val_loss: 1.4724 - val_accuracy: 0.0265\n",
      "Epoch 13/500\n",
      "313/313 [==============================] - 3s 10ms/step - loss: 1.4763 - accuracy: 0.0252 - val_loss: 1.4724 - val_accuracy: 0.0265\n",
      "Epoch 14/500\n",
      "313/313 [==============================] - 3s 9ms/step - loss: 1.4763 - accuracy: 0.0252 - val_loss: 1.4724 - val_accuracy: 0.0265\n",
      "Epoch 15/500\n",
      "313/313 [==============================] - 3s 10ms/step - loss: 1.4763 - accuracy: 0.0252 - val_loss: 1.4724 - val_accuracy: 0.0265\n",
      "Epoch 16/500\n",
      "313/313 [==============================] - 3s 10ms/step - loss: 1.4763 - accuracy: 0.0252 - val_loss: 1.4724 - val_accuracy: 0.0265\n",
      "Epoch 17/500\n",
      "313/313 [==============================] - 3s 9ms/step - loss: 1.4763 - accuracy: 0.0252 - val_loss: 1.4724 - val_accuracy: 0.0265\n",
      "Epoch 18/500\n",
      "313/313 [==============================] - 3s 10ms/step - loss: 1.4763 - accuracy: 0.0252 - val_loss: 1.4724 - val_accuracy: 0.0265\n",
      "Epoch 19/500\n",
      "313/313 [==============================] - 3s 11ms/step - loss: 1.4763 - accuracy: 0.0252 - val_loss: 1.4724 - val_accuracy: 0.0265\n",
      "Epoch 20/500\n",
      "309/313 [============================>.] - ETA: 0s - loss: 1.4760 - accuracy: 0.0251"
     ]
    }
   ],
   "source": [
    "model.fit(x_train,y_train,epochs=500,validation_data=(x_test,y_test))"
   ]
  },
  {
   "cell_type": "code",
   "execution_count": null,
   "metadata": {},
   "outputs": [],
   "source": []
  }
 ],
 "metadata": {
  "kernelspec": {
   "display_name": "Python 3",
   "language": "python",
   "name": "python3"
  },
  "language_info": {
   "codemirror_mode": {
    "name": "ipython",
    "version": 3
   },
   "file_extension": ".py",
   "mimetype": "text/x-python",
   "name": "python",
   "nbconvert_exporter": "python",
   "pygments_lexer": "ipython3",
   "version": "3.8.2"
  }
 },
 "nbformat": 4,
 "nbformat_minor": 4
}
